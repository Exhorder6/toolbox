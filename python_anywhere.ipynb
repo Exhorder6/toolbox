{
  "nbformat": 4,
  "nbformat_minor": 0,
  "metadata": {
    "colab": {
      "name": "Untitled0.ipynb",
      "provenance": [],
      "authorship_tag": "ABX9TyOoJ2LtydXhirS02sXlucWk",
      "include_colab_link": true
    },
    "kernelspec": {
      "name": "python3",
      "display_name": "Python 3"
    }
  },
  "cells": [
    {
      "cell_type": "markdown",
      "metadata": {
        "id": "view-in-github",
        "colab_type": "text"
      },
      "source": [
        "<a href=\"https://colab.research.google.com/github/selcukakarin/ToolBox/blob/master/python_anywhere.ipynb\" target=\"_parent\"><img src=\"https://colab.research.google.com/assets/colab-badge.svg\" alt=\"Open In Colab\"/></a>"
      ]
    },
    {
      "cell_type": "markdown",
      "metadata": {
        "id": "q0QB9V2ppewr",
        "colab_type": "text"
      },
      "source": [
        "## Configuration\n",
        "\n",
        "### Source Code:"
      ]
    },
    {
      "cell_type": "code",
      "metadata": {
        "id": "fGW7HqrkpfTZ",
        "colab_type": "code",
        "colab": {}
      },
      "source": [
        "/home/microman111/Django-Blog-For-Deploy"
      ],
      "execution_count": null,
      "outputs": []
    },
    {
      "cell_type": "markdown",
      "metadata": {
        "id": "06nUYUGKpgJq",
        "colab_type": "text"
      },
      "source": [
        "### Virtualenv:"
      ]
    },
    {
      "cell_type": "code",
      "metadata": {
        "id": "5kFsCKcEpg6N",
        "colab_type": "code",
        "colab": {}
      },
      "source": [
        "/home/microman111/.virtualenvs/micromanVenv"
      ],
      "execution_count": null,
      "outputs": []
    },
    {
      "cell_type": "markdown",
      "metadata": {
        "id": "B3YZd7psphyV",
        "colab_type": "text"
      },
      "source": [
        "## Eğer pythonanywhere de bir web app silmek isterseniz "
      ]
    },
    {
      "cell_type": "code",
      "metadata": {
        "id": "oS4pDnZfpkxH",
        "colab_type": "code",
        "colab": {}
      },
      "source": [
        "- web api siliniz\n",
        "\n",
        "- daha sonra bir bash console açıp proje dizinine gidiniz --> cd ~/\n",
        "\n",
        "- ardından rm komutu ile tüm dosyaları temizleyiniz --> rm -rf Django-Blog-For-Deploy/\n",
        "\n",
        "- virtual environment'ımızı da silmeliyiz --> rm -rf /home/microman111/.virtualenvs/micromanVenv/ "
      ],
      "execution_count": null,
      "outputs": []
    }
  ]
}