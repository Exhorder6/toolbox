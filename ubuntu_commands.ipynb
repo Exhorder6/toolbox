{
 "cells": [
  {
   "cell_type": "markdown",
   "metadata": {
    "colab_type": "text",
    "id": "view-in-github"
   },
   "source": [
    "<a href=\"https://colab.research.google.com/github/selcukakarin/ToolBox/blob/master/ubuntu_commands.ipynb\" target=\"_parent\"><img src=\"https://colab.research.google.com/assets/colab-badge.svg\" alt=\"Open In Colab\"/></a>"
   ]
  },
  {
   "cell_type": "markdown",
   "metadata": {
    "colab_type": "text",
    "id": "U6tB2UB4h6eZ"
   },
   "source": [
    "Move etmek isterken permission denied sorununu aşağıdaki komut ile çözebiliriz"
   ]
  },
  {
   "cell_type": "code",
   "execution_count": null,
   "metadata": {
    "colab": {},
    "colab_type": "code",
    "id": "lLkeQ6oTh9cX"
   },
   "outputs": [],
   "source": [
    "sudo mv lnkclouderp.bak /var/lib/postgresql"
   ]
  },
  {
   "cell_type": "markdown",
   "metadata": {
    "colab_type": "text",
    "id": "OEpQuXFyh_F3"
   },
   "source": [
    "ubuntuda yüklü tüm paketler"
   ]
  },
  {
   "cell_type": "code",
   "execution_count": null,
   "metadata": {
    "colab": {},
    "colab_type": "code",
    "id": "0_gZw6gFiCkU"
   },
   "outputs": [],
   "source": [
    "dpkg --get-selections\n",
    "\n",
    "pip freeze"
   ]
  },
  {
   "cell_type": "markdown",
   "metadata": {
    "colab_type": "text",
    "id": "ClS7LPqaiFQs"
   },
   "source": [
    "linux'ta requirements.txt oluşturmak için"
   ]
  },
  {
   "cell_type": "code",
   "execution_count": null,
   "metadata": {
    "colab": {},
    "colab_type": "code",
    "id": "RknltBmxiGyu"
   },
   "outputs": [],
   "source": [
    "pip freeze > requirements.txt"
   ]
  },
  {
   "cell_type": "markdown",
   "metadata": {
    "colab_type": "text",
    "id": "x3eCdGqxiH1i"
   },
   "source": [
    "linux'ta bir dosyayı bir klasöre kopyalama sırasında permission denied hatası almanın çözümü"
   ]
  },
  {
   "cell_type": "code",
   "execution_count": null,
   "metadata": {
    "colab": {},
    "colab_type": "code",
    "id": "F5l0Zf0ZiJKc"
   },
   "outputs": [],
   "source": [
    "sudo nautilus"
   ]
  },
  {
   "cell_type": "markdown",
   "metadata": {
    "colab_type": "text",
    "id": "jTr9LZgeiKPw"
   },
   "source": [
    "Vs Code Kurulum"
   ]
  },
  {
   "cell_type": "code",
   "execution_count": null,
   "metadata": {
    "colab": {},
    "colab_type": "code",
    "id": "--_f81lgiLMz"
   },
   "outputs": [],
   "source": [
    "sudo snap install --classic code"
   ]
  },
  {
   "cell_type": "markdown",
   "metadata": {
    "colab_type": "text",
    "id": "Js7kFuZjiMRa"
   },
   "source": [
    "Virtual environment install"
   ]
  },
  {
   "cell_type": "markdown",
   "metadata": {
    "colab_type": "text",
    "id": "z9vHUn36iPjb"
   },
   "source": [
    "FOR UBUNTU"
   ]
  },
  {
   "cell_type": "code",
   "execution_count": null,
   "metadata": {
    "colab": {},
    "colab_type": "code",
    "id": "-uyuF2sViNQD"
   },
   "outputs": [],
   "source": [
    "sudo apt-get install python3-venv\n",
    "\n",
    "python3 -m venv myvenv\n",
    "\n",
    "source myvenv/bin/activate\n",
    "\n",
    "deactivate"
   ]
  },
  {
   "cell_type": "markdown",
   "metadata": {
    "colab_type": "text",
    "id": "k2flrpfIiR7q"
   },
   "source": [
    "FOR WINDOWS\n",
    "\n",
    "- önce venv için bir klasor oluştur"
   ]
  },
  {
   "cell_type": "code",
   "execution_count": null,
   "metadata": {
    "colab": {},
    "colab_type": "code",
    "id": "fQmk6fDhiU5u"
   },
   "outputs": [],
   "source": [
    "cd blog\n",
    "\n",
    "pip install virtualenv \n",
    "\n",
    "virtualenv venv\n",
    "\n",
    "venv\\Scripts\\activate\n",
    "\n",
    "deactivate"
   ]
  },
  {
   "cell_type": "markdown",
   "metadata": {
    "colab_type": "text",
    "id": "aAXk7UNriX4u"
   },
   "source": [
    "pip kurulum"
   ]
  },
  {
   "cell_type": "code",
   "execution_count": null,
   "metadata": {
    "colab": {},
    "colab_type": "code",
    "id": "GXpRIrkCiZg9"
   },
   "outputs": [],
   "source": [
    "sudo apt install python3-pip"
   ]
  },
  {
   "cell_type": "markdown",
   "metadata": {
    "colab_type": "text",
    "id": "mIommuf_ianB"
   },
   "source": [
    "ImageField için pillow yüklenmeli"
   ]
  },
  {
   "cell_type": "code",
   "execution_count": null,
   "metadata": {
    "colab": {},
    "colab_type": "code",
    "id": "VZ5Nfrovibne"
   },
   "outputs": [],
   "source": [
    "pip3 install Pillow"
   ]
  },
  {
   "cell_type": "markdown",
   "metadata": {
    "colab_type": "text",
    "id": "GhOL-dsSilZO"
   },
   "source": [
    "[kaynak](https://simpleisbetterthancomplex.com/tutorial/2016/08/01/how-to-upload-files-with-django.html)"
   ]
  },
  {
   "cell_type": "markdown",
   "metadata": {
    "colab_type": "text",
    "id": "ZitRW4Qzioai"
   },
   "source": [
    "Conda"
   ]
  },
  {
   "cell_type": "markdown",
   "metadata": {
    "colab_type": "text",
    "id": "KyM8HGhqirvZ"
   },
   "source": [
    "[Kaynak](https://docs.conda.io/projects/conda/en/latest/user-guide/tasks/manage-environments.html#creating-an-environment-from-an-environment-yml-file)"
   ]
  },
  {
   "cell_type": "markdown",
   "metadata": {
    "colab_type": "text",
    "id": "nIKTy8OpitP9"
   },
   "source": [
    "Hayat kurtaran yeniden ubuntu paketlerini yükleme kodu"
   ]
  },
  {
   "cell_type": "code",
   "execution_count": null,
   "metadata": {
    "colab": {},
    "colab_type": "code",
    "id": "YYx-WoXoiukz"
   },
   "outputs": [],
   "source": [
    "sudo apt-get install --reinstall ubuntu-desktop"
   ]
  },
  {
   "cell_type": "markdown",
   "metadata": {
    "colab_type": "text",
    "id": "PKzYM5OFivlk"
   },
   "source": [
    "Ubuntu sistem özellikleri"
   ]
  },
  {
   "cell_type": "code",
   "execution_count": null,
   "metadata": {
    "colab": {},
    "colab_type": "code",
    "id": "_k4gFxMeiyLJ"
   },
   "outputs": [],
   "source": [
    "sudo lshw -html > system_info.html"
   ]
  },
  {
   "cell_type": "markdown",
   "metadata": {
    "colab_type": "text",
    "id": "0OscciprizkN"
   },
   "source": [
    "Jupyter kurulum"
   ]
  },
  {
   "cell_type": "code",
   "execution_count": null,
   "metadata": {
    "colab": {},
    "colab_type": "code",
    "id": "4xbncKn1i1G2"
   },
   "outputs": [],
   "source": [
    "sudo apt install jupyter-notebook"
   ]
  },
  {
   "cell_type": "markdown",
   "metadata": {
    "colab_type": "text",
    "id": "xqVI8R-ai2qW"
   },
   "source": [
    "Sqlite kurulum"
   ]
  },
  {
   "cell_type": "markdown",
   "metadata": {
    "colab_type": "text",
    "id": "5TjSJJNmi4kq"
   },
   "source": [
    "[Kaynak](https://linuxhint.com/install_sqlite_browser_ubuntu_1804/)"
   ]
  },
  {
   "cell_type": "code",
   "execution_count": null,
   "metadata": {
    "colab": {},
    "colab_type": "code",
    "id": "RrSTFbPYi564"
   },
   "outputs": [],
   "source": [
    "sudo apt-get update\n",
    "sudo apt-get install sqlite3\n",
    "sqlite3 --version\n",
    "sudo apt-get install sqlitebrowser"
   ]
  },
  {
   "cell_type": "markdown",
   "metadata": {
    "colab_type": "text",
    "id": "OiWBrLRti6_b"
   },
   "source": [
    "Typora setup\n",
    "[Kaynak](https://connectwww.com/how-to-install-typora-on-ubuntu-real-live-preview-markdown-editor/60679/#:~:text=Open%20your%20terminal%20app%20in,terminal%20to%20add%20the%20key.&text=type%20your%20ubuntu%20password.,terminal%20to%20add%20its%20PPA.)"
   ]
  },
  {
   "cell_type": "code",
   "execution_count": null,
   "metadata": {
    "colab": {},
    "colab_type": "code",
    "id": "oQ6hDkSVi8k9"
   },
   "outputs": [],
   "source": [
    "wget -qO - https://typora.io/linux/public-key.asc | sudo apt-key add -\n",
    "sudo add-apt-repository 'deb https://typora.io/linux ./'\n",
    "sudo apt-get update\n",
    "sudo apt-get install typora\n",
    "sudo apt remove typora\n",
    "sudo apt autoremove"
   ]
  },
  {
   "cell_type": "markdown",
   "metadata": {
    "colab_type": "text",
    "id": "OedcKmRli-ou"
   },
   "source": [
    "pygraphviz setup\n",
    "[Kaynak](https://django-extensions.readthedocs.io/en/latest/graph_models.html)\n",
    "[Kaynak2](https://stackoverflow.com/questions/40266604/pip-install-pygraphviz-fails-failed-building-wheel-for-pygraphviz)"
   ]
  },
  {
   "cell_type": "code",
   "execution_count": null,
   "metadata": {
    "colab": {},
    "colab_type": "code",
    "id": "x9chu0CwjAfZ"
   },
   "outputs": [],
   "source": [
    "sudo apt-get install python-dev graphviz libgraphviz-dev pkg-config\n",
    "pip install pygraphviz\n",
    "pip install pyparsing pydot\n",
    "add django_extensions to installed_apps\n",
    "pip install django-extensions"
   ]
  },
  {
   "cell_type": "markdown",
   "metadata": {
    "colab_type": "text",
    "id": "18qwrWKdjCUn"
   },
   "source": [
    "run a sh file on ubuntu\n",
    "Give execute permission to your script:"
   ]
  },
  {
   "cell_type": "code",
   "execution_count": null,
   "metadata": {
    "colab": {},
    "colab_type": "code",
    "id": "M9TWKnLYjEKO"
   },
   "outputs": [],
   "source": [
    "chmod +x /path/to/yourscript.sh"
   ]
  },
  {
   "cell_type": "markdown",
   "metadata": {
    "colab_type": "text",
    "id": "cAisUzF7jF99"
   },
   "source": [
    "And to run your script:"
   ]
  },
  {
   "cell_type": "code",
   "execution_count": null,
   "metadata": {
    "colab": {},
    "colab_type": "code",
    "id": "RicZklrWjHQA"
   },
   "outputs": [],
   "source": [
    "/path/to/yourscript.sh"
   ]
  },
  {
   "cell_type": "markdown",
   "metadata": {
    "colab_type": "text",
    "id": "L_VzRTnVjIOc"
   },
   "source": [
    "create ppk file using pem file\n",
    "[Kaynak](https://aws.amazon.com/premiumsupport/knowledge-center/convert-pem-file-into-ppk/)"
   ]
  },
  {
   "cell_type": "markdown",
   "metadata": {
    "colab_type": "text",
    "id": "KrBwasO7jKTW"
   },
   "source": [
    "To install PuTTY, run one of the following commands:"
   ]
  },
  {
   "cell_type": "code",
   "execution_count": null,
   "metadata": {
    "colab": {},
    "colab_type": "code",
    "id": "wVvngK3SjLkh"
   },
   "outputs": [],
   "source": [
    "sudo apt-get install putty-tools"
   ]
  },
  {
   "cell_type": "markdown",
   "metadata": {
    "colab_type": "text",
    "id": "lZctZqECjMni"
   },
   "source": [
    "On the instance shell, run the puttygen command to convert your .pem file to a .ppk file:"
   ]
  },
  {
   "cell_type": "code",
   "execution_count": null,
   "metadata": {
    "colab": {},
    "colab_type": "code",
    "id": "EMOhyWLGjN0B"
   },
   "outputs": [],
   "source": [
    "sudo puttygen pemKey.pem -o ppkKey.ppk -O private"
   ]
  },
  {
   "cell_type": "markdown",
   "metadata": {
    "colab_type": "text",
    "id": "FYWmiskejOpr"
   },
   "source": [
    "Run the puttygen command to convert a .ppk file into a .pem file:"
   ]
  },
  {
   "cell_type": "code",
   "execution_count": null,
   "metadata": {
    "colab": {},
    "colab_type": "code",
    "id": "v1gKMBw5jPeh"
   },
   "outputs": [],
   "source": [
    "sudo puttygen ppkkey.ppk -O private-openssh -o pemkey.pem"
   ]
  },
  {
   "cell_type": "markdown",
   "metadata": {},
   "source": [
    "## How do I convert a .pem file into a .ppk, and vice versa, on Windows and Linux?\n",
    "[Kaynak](https://aws.amazon.com/premiumsupport/knowledge-center/convert-pem-file-into-ppk/)"
   ]
  },
  {
   "cell_type": "code",
   "execution_count": null,
   "metadata": {},
   "outputs": [],
   "source": [
    "sudo apt-get install putty-tools\n",
    "sudo puttygen pemKey.pem -o ppkKey.ppk -O private\n",
    "sudo puttygen ppkkey.ppk -O private-openssh -o pemkey.pem"
   ]
  },
  {
   "cell_type": "markdown",
   "metadata": {},
   "source": [
    "## Virtualbox Setup\n",
    "[Kaynak](https://phoenixnap.com/kb/install-virtualbox-on-ubuntu)\n",
    "\n",
    "Option 1: Install VirtualBox from Ubuntu Repositories\n",
    "\n",
    "The easiest way to install VirtualBox is by using the official Ubuntu repositories.\n",
    "\n",
    "Open a terminal, and enter the following:"
   ]
  },
  {
   "cell_type": "code",
   "execution_count": null,
   "metadata": {},
   "outputs": [],
   "source": [
    "sudo apt-get update\n",
    "sudo apt-get install virtualbox"
   ]
  },
  {
   "cell_type": "markdown",
   "metadata": {},
   "source": [
    "2. Next, install the VirtualBox Extension Pack:"
   ]
  },
  {
   "cell_type": "code",
   "execution_count": null,
   "metadata": {},
   "outputs": [],
   "source": [
    "sudo apt-get install virtualbox—ext–pack"
   ]
  },
  {
   "cell_type": "markdown",
   "metadata": {},
   "source": [
    "## install proteus to ubuntu"
   ]
  },
  {
   "cell_type": "markdown",
   "metadata": {},
   "source": [
    "(Kaynak1)[https://www.youtube.com/watch?v=Y1vfQoJujxI&ab_channel=JakariaRidoy]\n",
    "(Kaynak2)[https://drive.google.com/file/d/1HonZm_pWFc7oRMO2qTDk-ZRFu0ScK0G4/view?usp=sharing]\n"
   ]
  }
 ],
 "metadata": {
  "colab": {
   "authorship_tag": "ABX9TyOQ2j1hk4TXCQi6v6mqCOCw",
   "include_colab_link": true,
   "name": "Untitled1.ipynb",
   "provenance": []
  },
  "kernelspec": {
   "display_name": "Python 3",
   "language": "python",
   "name": "python3"
  },
  "language_info": {
   "codemirror_mode": {
    "name": "ipython",
    "version": 3
   },
   "file_extension": ".py",
   "mimetype": "text/x-python",
   "name": "python",
   "nbconvert_exporter": "python",
   "pygments_lexer": "ipython3",
   "version": "3.8.3"
  }
 },
 "nbformat": 4,
 "nbformat_minor": 1
}
