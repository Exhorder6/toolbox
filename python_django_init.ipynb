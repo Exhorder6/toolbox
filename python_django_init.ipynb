{
  "nbformat": 4,
  "nbformat_minor": 0,
  "metadata": {
    "colab": {
      "name": "Untitled3.ipynb",
      "provenance": [],
      "authorship_tag": "ABX9TyNyDgARAx3gR/8ajzvYS+Jt",
      "include_colab_link": true
    },
    "kernelspec": {
      "name": "python3",
      "display_name": "Python 3"
    }
  },
  "cells": [
    {
      "cell_type": "markdown",
      "metadata": {
        "id": "view-in-github",
        "colab_type": "text"
      },
      "source": [
        "<a href=\"https://colab.research.google.com/github/selcukakarin/ToolBox/blob/master/python_django_init.ipynb\" target=\"_parent\"><img src=\"https://colab.research.google.com/assets/colab-badge.svg\" alt=\"Open In Colab\"/></a>"
      ]
    },
    {
      "cell_type": "markdown",
      "metadata": {
        "id": "cLaH6ucElJeX",
        "colab_type": "text"
      },
      "source": [
        "## Vs code kurulumu"
      ]
    },
    {
      "cell_type": "code",
      "metadata": {
        "id": "pS2bDCt6lHzo",
        "colab_type": "code",
        "colab": {}
      },
      "source": [
        "sudo snap install --classic code  #komutu ile öncelikjle vs code'umuzu kurmalıyız."
      ],
      "execution_count": null,
      "outputs": []
    },
    {
      "cell_type": "markdown",
      "metadata": {
        "id": "8cqBodq7lQ1k",
        "colab_type": "text"
      },
      "source": [
        "## python kurulum"
      ]
    },
    {
      "cell_type": "markdown",
      "metadata": {
        "id": "ux9rLdGFlS28",
        "colab_type": "text"
      },
      "source": [
        "Start by updating the packages list and installing the prerequisites:"
      ]
    },
    {
      "cell_type": "code",
      "metadata": {
        "id": "fQq_j6m0lR6S",
        "colab_type": "code",
        "colab": {}
      },
      "source": [
        "sudo apt update\n",
        "\n",
        "sudo apt install software-properties-common"
      ],
      "execution_count": null,
      "outputs": []
    },
    {
      "cell_type": "markdown",
      "metadata": {
        "id": "tNtsZ8ZFlVAJ",
        "colab_type": "text"
      },
      "source": [
        "Next, add the deadsnakes PPA to your sources list:"
      ]
    },
    {
      "cell_type": "code",
      "metadata": {
        "id": "5anVjHqKlWXL",
        "colab_type": "code",
        "colab": {}
      },
      "source": [
        "sudo add-apt-repository ppa:deadsnakes/ppa"
      ],
      "execution_count": null,
      "outputs": []
    },
    {
      "cell_type": "markdown",
      "metadata": {
        "id": "IxQWq2DzlX-4",
        "colab_type": "text"
      },
      "source": [
        "When prompted press Enter to continue:\n",
        "\n",
        "Press [ENTER] to continue or Ctrl-c to cancel adding it.\n",
        "\n",
        "Once the repository is enabled, install Python 3.7 with:"
      ]
    },
    {
      "cell_type": "code",
      "metadata": {
        "id": "GrzuazcqlZlK",
        "colab_type": "code",
        "colab": {}
      },
      "source": [
        "sudo apt install python3.7"
      ],
      "execution_count": null,
      "outputs": []
    },
    {
      "cell_type": "markdown",
      "metadata": {
        "id": "RcjdCS0Albk9",
        "colab_type": "text"
      },
      "source": [
        "At this point, Python 3.7 is installed on your Ubuntu system and ready to be used. You can verify it by typing:"
      ]
    },
    {
      "cell_type": "code",
      "metadata": {
        "id": "dhPV6afSlcn8",
        "colab_type": "code",
        "colab": {}
      },
      "source": [
        "python3.7 --version\n",
        "\n",
        "sudo update-alternatives --install /usr/bin/python python /usr/bin/python3.7 1      komutu ile standart python3 sürümünü 3.7 olarak seçiyoruz\n",
        "\n",
        "sudo update-alternatives --config python\n",
        "\n",
        "sudo update-alternatives  --set python /usr/bin/python3.7       eğer yukarıdaki komut işe yaramaz ise standart python3 sürümünü 3.7 olarak seçiyoruz\n",
        "\n",
        "alias python=python3\n",
        "\n",
        "python --version"
      ],
      "execution_count": null,
      "outputs": []
    },
    {
      "cell_type": "markdown",
      "metadata": {
        "id": "fCCDMzfclfcr",
        "colab_type": "text"
      },
      "source": [
        "## Pip kurulumu"
      ]
    },
    {
      "cell_type": "code",
      "metadata": {
        "id": "Gfcq41jVlgvh",
        "colab_type": "code",
        "colab": {}
      },
      "source": [
        "sudo apt install python3-pip  #komutu ile pip paket yükleyicisi kurulur. Django vs için pip kullanılacaktır."
      ],
      "execution_count": null,
      "outputs": []
    },
    {
      "cell_type": "markdown",
      "metadata": {
        "id": "UhmAm4I7lkFn",
        "colab_type": "text"
      },
      "source": [
        "## Django kurulumu"
      ]
    },
    {
      "cell_type": "markdown",
      "metadata": {
        "id": "N2ID0K2nlneh",
        "colab_type": "text"
      },
      "source": [
        "`__init__.py` myapp klasörünün bir python dosyası olduğunu gösterir\n",
        "\n",
        "`settings.py` ayarlarımızı bulunduran dosya\n",
        "\n",
        "`urls.py` site yönlendirme (map ayarları) işlemleri yapılır.\n",
        "[Django kurulum](https://tecadmin.net/install-django-on-ubuntu/)"
      ]
    },
    {
      "cell_type": "code",
      "metadata": {
        "id": "whLtfoX6lvp5",
        "colab_type": "code",
        "colab": {}
      },
      "source": [
        "pip3 install Django==2.1.7      kodu ile kurulum gerçekleştirilir.\n",
        "\n",
        "pip3 install -U Django==2.1.7       kodu ile mevcut sürüm güncelleştirilir.\n",
        "\n",
        "python3 -m django --version     ile sürüm kontrolü yapılmaktadır.\n",
        "\n",
        "pip3 uninstall Django       kodu ile kaldırma işlemi yapılmaktadır."
      ],
      "execution_count": null,
      "outputs": []
    },
    {
      "cell_type": "markdown",
      "metadata": {
        "id": "sqbd2su8lyvW",
        "colab_type": "text"
      },
      "source": [
        "### proje oluşturma kodu"
      ]
    },
    {
      "cell_type": "code",
      "metadata": {
        "id": "wNO4i6NEl0Jq",
        "colab_type": "code",
        "colab": {}
      },
      "source": [
        "django-admin.py startproject linkerp"
      ],
      "execution_count": null,
      "outputs": []
    },
    {
      "cell_type": "markdown",
      "metadata": {
        "id": "PtwlOa7Ol1Fb",
        "colab_type": "text"
      },
      "source": [
        "#### Django projemizi local hostta çalıştırıyoruz"
      ]
    },
    {
      "cell_type": "code",
      "metadata": {
        "id": "G8LNien0l3Ke",
        "colab_type": "code",
        "colab": {}
      },
      "source": [
        "python3 manage.py runserver"
      ],
      "execution_count": null,
      "outputs": []
    },
    {
      "cell_type": "markdown",
      "metadata": {
        "id": "fjTyQ0ONl4i3",
        "colab_type": "text"
      },
      "source": [
        "#### Postgresql - Kullanılacak veritabanını yükleme\n",
        "[postgres yükleme kılavuzu](https://github.com/selcukakarin/ToolBox/blob/master/postgres.md)"
      ]
    },
    {
      "cell_type": "markdown",
      "metadata": {
        "id": "TfqziHn7l9BZ",
        "colab_type": "text"
      },
      "source": [
        "#### Database ayarlarını settings.py dosyasından yapabiliriz"
      ]
    },
    {
      "cell_type": "code",
      "metadata": {
        "id": "ad6Xp4_Wl9sw",
        "colab_type": "code",
        "colab": {}
      },
      "source": [
        "DATABASES = {\n",
        "\n",
        "    'default': {\n",
        "    \n",
        "        'ENGINE': 'django.db.backends.postgresql_psycopg2',\n",
        "        \n",
        "        'NAME': 'dbName',\n",
        "        \n",
        "        'USER': 'userName',\n",
        "        \n",
        "        'PASSWORD': '***',\n",
        "        \n",
        "        'HOST': 'localhost',\n",
        "        \n",
        "        'PORT': '',\n",
        "        \n",
        "    }\n",
        "    \n",
        "}"
      ],
      "execution_count": null,
      "outputs": []
    },
    {
      "cell_type": "markdown",
      "metadata": {
        "id": "IwJL3suHl_I1",
        "colab_type": "text"
      },
      "source": [
        "#### setting.py deki değişiklikleri veritabanına yansıtmak için kullanılan komutlar"
      ]
    },
    {
      "cell_type": "code",
      "metadata": {
        "id": "JgVvr2hFmAXv",
        "colab_type": "code",
        "colab": {}
      },
      "source": [
        "python manage.py makemigrations #ilk defa oluşturulan tablolar için \n",
        "\n",
        "python manage.py migrate  #app'lerimiz içindeki veritabanları oluşturulur\n",
        "\n",
        "python manage.py sqlmigrate post 0001 # post = app name 0001 = migration name"
      ],
      "execution_count": null,
      "outputs": []
    },
    {
      "cell_type": "markdown",
      "metadata": {
        "id": "x896s363mBys",
        "colab_type": "text"
      },
      "source": [
        "#### admin sayfasına bağlanmak için pgadmin4 üzerinden bir server tanımlaması yapmamız gerekli."
      ]
    },
    {
      "cell_type": "markdown",
      "metadata": {
        "id": "BDvrjvMnmEGh",
        "colab_type": "text"
      },
      "source": [
        "### superuser oluşturuyoruz"
      ]
    },
    {
      "cell_type": "code",
      "metadata": {
        "id": "k9LKpsSymIFh",
        "colab_type": "code",
        "colab": {}
      },
      "source": [
        "python manage.py createsuperuser"
      ],
      "execution_count": null,
      "outputs": []
    },
    {
      "cell_type": "markdown",
      "metadata": {
        "id": "pyqmYPZLmKD2",
        "colab_type": "text"
      },
      "source": [
        "### uygulama oluşturma kodu"
      ]
    },
    {
      "cell_type": "code",
      "metadata": {
        "id": "Ua1vZY39mKzc",
        "colab_type": "code",
        "colab": {}
      },
      "source": [
        "python manage.py startapp erpDb"
      ],
      "execution_count": null,
      "outputs": []
    },
    {
      "cell_type": "markdown",
      "metadata": {
        "id": "6Y1rZvvZmL7I",
        "colab_type": "text"
      },
      "source": [
        "### Article model oluşturma ve Admin arayüzüne ekleme\n",
        "\n",
        "#### models.py"
      ]
    },
    {
      "cell_type": "code",
      "metadata": {
        "id": "wTrNdaOGmOIy",
        "colab_type": "code",
        "colab": {}
      },
      "source": [
        "class Article(models.Model):\n",
        "\n",
        "    author=models.ForeignKey(\"auth.User\",on_delete=models.CASCADE,verbose_name=\"Yazar\")\n",
        "    \n",
        "    title=models.CharField(max_length=50,verbose_name=\"Başlık\")\n",
        "    \n",
        "    content=models.TextField(verbose_name=\"İçerik\")\n",
        "    \n",
        "    created_date=models.DateTimeField(auto_now_add=True,verbose_name=\"Oluşturulma tarihi\")"
      ],
      "execution_count": null,
      "outputs": []
    },
    {
      "cell_type": "markdown",
      "metadata": {
        "id": "TlmyRTsOmPeV",
        "colab_type": "text"
      },
      "source": [
        "#### admin.py - Article modelimizi admin panelimize kayıt ediyoruz"
      ]
    },
    {
      "cell_type": "code",
      "metadata": {
        "id": "FFV4y7fdmRTg",
        "colab_type": "code",
        "colab": {}
      },
      "source": [
        "from .models import Article\n",
        "\n",
        "#Register your models here.\n",
        "\n",
        "#admin.site.register(Article)\n",
        "\n",
        "@admin.register(Article)\n",
        "\n",
        "class ArticleAdmin(admin.ModelAdmin):\n",
        "\n",
        "    #Article sayfasında hangi özelliklerin gösterileceğini seçmek için\n",
        "    \n",
        "    list_display=[\"title\",\"author\",\"created_date\",\"content\"]\n",
        "\n",
        "    #Article sayfasında hangi özelliklerin link alacağını belirler\n",
        "    \n",
        "    list_display_links=[\"title\",\"author\",\"created_date\"]\n",
        "        \n",
        "    #Article sayfasında title'a göre arama özelliği geldi\n",
        "    \n",
        "    search_fields=[\"title\"]\n",
        "    \n",
        "    #Article sayfasında sağ köşede bir süzgeç menü oluşturulur.\n",
        "    \n",
        "    #list_filter=[\"content\"]\n",
        "    \n",
        "    list_filter=[\"title\"]\n",
        "\n",
        "    #Meta class'ı python'ın bize önerdiği bir classtır. ismi değiştirilemez. model=Article yardımıyla Article ile ArticleAdmini bağlar.\n",
        "    \n",
        "    class Meta:\n",
        "    \n",
        "        model=Article"
      ],
      "execution_count": null,
      "outputs": []
    },
    {
      "cell_type": "markdown",
      "metadata": {
        "id": "0vitXnTMmUIo",
        "colab_type": "text"
      },
      "source": [
        "#### myapp/setting.py"
      ]
    },
    {
      "cell_type": "code",
      "metadata": {
        "id": "a8-72r4ZmU-F",
        "colab_type": "code",
        "colab": {}
      },
      "source": [
        "INSTALLED_APPS = [\n",
        "\n",
        "    'django.contrib.admin',\n",
        "    \n",
        "    'django.contrib.auth',\n",
        "    \n",
        "    'django.contrib.contenttypes',\n",
        "    \n",
        "    'django.contrib.sessions',\n",
        "    \n",
        "    'django.contrib.messages',\n",
        "    \n",
        "    'django.contrib.staticfiles',\n",
        "    \n",
        "    \"article\",\n",
        "    \n",
        "]"
      ],
      "execution_count": null,
      "outputs": []
    },
    {
      "cell_type": "markdown",
      "metadata": {
        "id": "XsVnWeoRmWaG",
        "colab_type": "text"
      },
      "source": [
        "#### Template (html dosyalarımızı) templates klasörü altında tutmak için uygulamamız olan myapp/settings.py dosyasına aşağıdaki kodu ekliyoruz"
      ]
    },
    {
      "cell_type": "code",
      "metadata": {
        "id": "91GluS3LmXOj",
        "colab_type": "code",
        "colab": {}
      },
      "source": [
        "TEMPLATES = [\n",
        "\n",
        "    {\n",
        "    \n",
        "        'BACKEND': 'django.template.backends.django.DjangoTemplates',\n",
        "        \n",
        "        'DIRS': [\"templates\"], #Artık html sayfalarımızın yolu templates klasörü olabilir\n",
        "        \n",
        "        'APP_DIRS': True,\n",
        "        \n",
        "        'OPTIONS': {\n",
        "        \n",
        "            'context_processors': [\n",
        "            \n",
        "                'django.template.context_processors.debug',\n",
        "                \n",
        "                'django.template.context_processors.request',\n",
        "                \n",
        "                'django.contrib.auth.context_processors.auth',\n",
        "                \n",
        "                'django.contrib.messages.context_processors.messages',\n",
        "                \n",
        "            ],\n",
        "            \n",
        "        },\n",
        "        \n",
        "    },\n",
        "    \n",
        "]"
      ],
      "execution_count": null,
      "outputs": []
    },
    {
      "cell_type": "markdown",
      "metadata": {
        "id": "1bXcAS9JmZS-",
        "colab_type": "text"
      },
      "source": [
        "#### Eğer \"\" yani localhost url'imiz için HttpResponse yani bir string göndermek ister isek aşağıdaki gibi yaparız\n",
        "\n",
        "#### önce views.py'de bir method yazarız"
      ]
    },
    {
      "cell_type": "code",
      "metadata": {
        "id": "50ZXj5DGmbpZ",
        "colab_type": "code",
        "colab": {}
      },
      "source": [
        "from django.shortcuts import render,HttpResponse\n",
        "\n",
        "### Create your views here.\n",
        "\n",
        "def index(request):\n",
        "\n",
        "    return HttpResponse(\"<h3> Anasayfa </h3>\")"
      ],
      "execution_count": null,
      "outputs": []
    },
    {
      "cell_type": "markdown",
      "metadata": {
        "id": "g43YXjibmdJ9",
        "colab_type": "text"
      },
      "source": [
        "#### daha sonra myapp/urls.py ye şunları ekleriz"
      ]
    },
    {
      "cell_type": "code",
      "metadata": {
        "id": "CaOh6piumeHk",
        "colab_type": "code",
        "colab": {}
      },
      "source": [
        "from django.contrib import admin\n",
        "\n",
        "from django.urls import path\n",
        "\n",
        "from article.views import index ###\n",
        "\n",
        "urlpatterns = [\n",
        "\n",
        "    path('admin/', admin.site.urls),\n",
        "    \n",
        "    path('', index,name=\"index\"), #localhost:8000 adresimize gideriz. article/views.py dosyamızdaki index methodunu çalıştırırız.\n",
        "    \n",
        "]"
      ],
      "execution_count": null,
      "outputs": []
    },
    {
      "cell_type": "markdown",
      "metadata": {
        "id": "f69MgXb2mfkU",
        "colab_type": "text"
      },
      "source": [
        "#### eğer HttpResponse yerine bir html dönmek istersek aşağıdaki kodu uygularız"
      ]
    },
    {
      "cell_type": "code",
      "metadata": {
        "id": "J7coMktPmglm",
        "colab_type": "code",
        "colab": {}
      },
      "source": [
        "return render(request,\"index.html\")"
      ],
      "execution_count": null,
      "outputs": []
    },
    {
      "cell_type": "markdown",
      "metadata": {
        "id": "Kf1JjIo2mhjY",
        "colab_type": "text"
      },
      "source": [
        "### static file (css,js vs) kullanımı\n",
        "\n",
        "#### Öncelikle app'imizin içerisine static klasörü oluştururuz.\n",
        "\n",
        "#### settings.py'ye eklenmeli"
      ]
    },
    {
      "cell_type": "code",
      "metadata": {
        "id": "i2FRUebpmij6",
        "colab_type": "code",
        "colab": {}
      },
      "source": [
        "STATIC_URL = '/static/'"
      ],
      "execution_count": null,
      "outputs": []
    },
    {
      "cell_type": "markdown",
      "metadata": {
        "id": "2N9snINsmji4",
        "colab_type": "text"
      },
      "source": [
        "#### app'imiz içindeki static file'ımızı kullanabilmek için"
      ]
    },
    {
      "cell_type": "code",
      "metadata": {
        "id": "sz8h_jcmml4z",
        "colab_type": "code",
        "colab": {}
      },
      "source": [
        "{% load static %} ## app'imiz içindeki static file'ımızı kullanabilmek için bu tanımlama yapılır\n",
        "\n",
        "<img src=\"{% static \"my_app/example.jpg\" %}\" alt=\"My image\"/>\n",
        "\n",
        "<!DOCTYPE html>\n",
        "\n",
        "{% load static %}\n",
        "\n",
        "<html lang=\"en\">\n",
        "    \n",
        "<head>\n",
        "    \n",
        "    <meta charset=\"UTF-8\">\n",
        "    \n",
        "    <meta name=\"viewport\" content=\"width=device-width, initial-scale=1.0\">\n",
        "    \n",
        "    <meta http-equiv=\"X-UA-Compatible\" content=\"ie=edge\">\n",
        "    \n",
        "    <title>Selçuk Site</title>\n",
        "    \n",
        "    <link rel=\"stylesheet\" href=\"{% static \"style.css\" %}\">\n",
        "    \n",
        "</head>\n",
        "\n",
        "<body>\n",
        "    \n",
        "    <h3>Anasayfa</h3>\n",
        "    \n",
        "    <p>Design by Selçuk Akarın</p>\n",
        "    \n",
        "</body>\n",
        "\n",
        "</html>"
      ],
      "execution_count": null,
      "outputs": []
    }
  ]
}