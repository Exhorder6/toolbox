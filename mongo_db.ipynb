{
  "nbformat": 4,
  "nbformat_minor": 0,
  "metadata": {
    "colab": {
      "name": "Untitled2.ipynb",
      "provenance": [],
      "authorship_tag": "ABX9TyNJcec/KCK10ubor4ga3P8v",
      "include_colab_link": true
    },
    "kernelspec": {
      "name": "python3",
      "display_name": "Python 3"
    }
  },
  "cells": [
    {
      "cell_type": "markdown",
      "metadata": {
        "id": "view-in-github",
        "colab_type": "text"
      },
      "source": [
        "<a href=\"https://colab.research.google.com/github/selcukakarin/ToolBox/blob/master/mongo_db.ipynb\" target=\"_parent\"><img src=\"https://colab.research.google.com/assets/colab-badge.svg\" alt=\"Open In Colab\"/></a>"
      ]
    },
    {
      "cell_type": "markdown",
      "metadata": {
        "id": "a1jc_2onq0av",
        "colab_type": "text"
      },
      "source": [
        "[Kaynak](https://api.mongodb.com/python/current/installation.html)\n",
        "\n",
        "Installing with pip\n",
        "\n",
        "We recommend using pip to install pymongo on all platforms:"
      ]
    },
    {
      "cell_type": "code",
      "metadata": {
        "id": "fdJT3Y6cqzEm",
        "colab_type": "code",
        "colab": {}
      },
      "source": [
        "python -m pip install pymongo"
      ],
      "execution_count": null,
      "outputs": []
    },
    {
      "cell_type": "markdown",
      "metadata": {
        "id": "eJWoeDDkq3eY",
        "colab_type": "text"
      },
      "source": [
        "To get a specific version of pymongo:"
      ]
    },
    {
      "cell_type": "code",
      "metadata": {
        "id": "R0X7p_LIq4-e",
        "colab_type": "code",
        "colab": {}
      },
      "source": [
        "python -m pip install pymongo==3.5.1"
      ],
      "execution_count": null,
      "outputs": []
    },
    {
      "cell_type": "markdown",
      "metadata": {
        "id": "t0YGpyjJq5b-",
        "colab_type": "text"
      },
      "source": [
        "To upgrade using pip:\n"
      ]
    },
    {
      "cell_type": "code",
      "metadata": {
        "id": "TqYWmV66q6fV",
        "colab_type": "code",
        "colab": {}
      },
      "source": [
        "python -m pip install --upgrade pymongo"
      ],
      "execution_count": null,
      "outputs": []
    },
    {
      "cell_type": "markdown",
      "metadata": {
        "id": "L8qBt9zmq7Zw",
        "colab_type": "text"
      },
      "source": [
        "Note pip does not support installing python packages in .egg format. If you would like to install PyMongo from a .egg provided on pypi use easy_install instead.\n",
        "\n",
        "\n",
        "Installing with easy_install\n",
        "\n",
        "To use easy_install from setuptools do:"
      ]
    },
    {
      "cell_type": "code",
      "metadata": {
        "id": "8l3mZjo3q8p_",
        "colab_type": "code",
        "colab": {}
      },
      "source": [
        "python -m easy_install pymongo"
      ],
      "execution_count": null,
      "outputs": []
    },
    {
      "cell_type": "markdown",
      "metadata": {
        "id": "EHorL_dtq9i-",
        "colab_type": "text"
      },
      "source": [
        "To upgrade do:"
      ]
    },
    {
      "cell_type": "code",
      "metadata": {
        "id": "OzQ3vAFxq-yQ",
        "colab_type": "code",
        "colab": {}
      },
      "source": [
        "python -m easy_install -U pymongo"
      ],
      "execution_count": null,
      "outputs": []
    }
  ]
}