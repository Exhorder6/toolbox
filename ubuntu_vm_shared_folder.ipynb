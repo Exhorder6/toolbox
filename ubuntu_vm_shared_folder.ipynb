{
  "nbformat": 4,
  "nbformat_minor": 0,
  "metadata": {
    "colab": {
      "name": "Untitled2.ipynb",
      "provenance": [],
      "authorship_tag": "ABX9TyNDxLbw4MCVYzARg/VYKIF/",
      "include_colab_link": true
    },
    "kernelspec": {
      "name": "python3",
      "display_name": "Python 3"
    }
  },
  "cells": [
    {
      "cell_type": "markdown",
      "metadata": {
        "id": "view-in-github",
        "colab_type": "text"
      },
      "source": [
        "<a href=\"https://colab.research.google.com/github/selcukakarin/ToolBox/blob/master/ubuntu_vm_shared_folder.ipynb\" target=\"_parent\"><img src=\"https://colab.research.google.com/assets/colab-badge.svg\" alt=\"Open In Colab\"/></a>"
      ]
    },
    {
      "cell_type": "markdown",
      "metadata": {
        "id": "peUyF-_qknEY",
        "colab_type": "text"
      },
      "source": [
        "Vm'de kurulu Ubuntu'ya shared folder oluşturma\n",
        "\n",
        "[Kaynak](https://gist.github.com/estorgio/0c76e29c0439e683caca694f338d4003)\n"
      ]
    },
    {
      "cell_type": "code",
      "metadata": {
        "id": "JN89TeOEksol",
        "colab_type": "code",
        "colab": {}
      },
      "source": [
        "- önce vm'de >> Aygıtlar ( devices ) >> Paylaşılan Klasörler ( Shared Folder ) >> Yeni bir shared folder oluşturulur sadece kalıcı yap ( persistence ) özelliğinde tik olmalıdır.\n",
        "\n",
        "- Yine aygıtlar sekmesindeki misafir kalıbını yerleştir seçeneği ile yükleme işlemi gerçekleşmelidir.\n",
        "\n",
        "- sudo shutdown -r now komutu ile restart işlemi yapılmalıdır.\n",
        "\n",
        "- mkdir ~/shared ile Home klasöründe shared klasörü oluşturuldu.\n",
        "\n",
        "- sudo mount -t vboxsf windowstaOlusturulanKlasorAdi ~/shared"
      ],
      "execution_count": null,
      "outputs": []
    },
    {
      "cell_type": "markdown",
      "metadata": {
        "id": "d-Us1mMIk3Sb",
        "colab_type": "text"
      },
      "source": [
        "Her restart'da shared folder'ın oto-mount edilmesi için"
      ]
    },
    {
      "cell_type": "code",
      "metadata": {
        "id": "DIhp6HPqklZZ",
        "colab_type": "code",
        "colab": {}
      },
      "source": [
        "- sudo nano /etc/fstab\n",
        "\n",
        "- UbuntuGate\t/home/< username >/shared\tvboxsf\tdefaults\t0\t0        -- son satıra eklenmeli\n",
        "\n",
        "*Örnek Yazım\n",
        "- UbuntuGate\t/home/selcuk/shared\tvboxsf\tdefaults\t0\t0        -- son satıra eklenmeli\n",
        "\n",
        "- UbuntuGate = windowstaOlusturulanKlasorAdi\n",
        "\n",
        "- eklendikten sonra ctrl+x'e tıklanır gelen soruya y yanıtı verilip kayıt gerçekleştirilir.\n",
        "\n",
        "- sudo nano /etc/modules\n",
        "\n",
        "- vboxsf        -- son satıra eklenmeli\n",
        "\n",
        "- eklendikten sonra ctrl+x'e tıklanır gelen soruya y yanıtı verilip kayıt gerçekleştirilir.\n",
        "\n",
        "- sudo shutdown -r now"
      ],
      "execution_count": null,
      "outputs": []
    }
  ]
}