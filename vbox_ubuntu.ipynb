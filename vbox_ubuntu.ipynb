{
  "nbformat": 4,
  "nbformat_minor": 0,
  "metadata": {
    "colab": {
      "name": "Untitled5.ipynb",
      "provenance": [],
      "authorship_tag": "ABX9TyPXVcxIbc+IuOgtl4dVzjki",
      "include_colab_link": true
    },
    "kernelspec": {
      "name": "python3",
      "display_name": "Python 3"
    }
  },
  "cells": [
    {
      "cell_type": "markdown",
      "metadata": {
        "id": "view-in-github",
        "colab_type": "text"
      },
      "source": [
        "<a href=\"https://colab.research.google.com/github/selcukakarin/ToolBox/blob/master/vbox_ubuntu.ipynb\" target=\"_parent\"><img src=\"https://colab.research.google.com/assets/colab-badge.svg\" alt=\"Open In Colab\"/></a>"
      ]
    },
    {
      "cell_type": "markdown",
      "metadata": {
        "id": "3OKVM05uE2x6",
        "colab_type": "text"
      },
      "source": [
        "[Kaynak](https://phoenixnap.com/kb/install-virtualbox-on-ubuntu)\n",
        "Option 1: Install VirtualBox from Ubuntu Repositories\n",
        "\n",
        "The easiest way to install VirtualBox is by using the official Ubuntu repositories.\n",
        "\n",
        "1. Open a terminal, and enter the following:"
      ]
    },
    {
      "cell_type": "code",
      "metadata": {
        "id": "zDr1yjHWCu-F",
        "colab_type": "code",
        "colab": {}
      },
      "source": [
        "sudo apt-get update\n",
        "sudo apt-get install virtualbox"
      ],
      "execution_count": null,
      "outputs": []
    },
    {
      "cell_type": "markdown",
      "metadata": {
        "id": "ecSK47MBC0Nk",
        "colab_type": "text"
      },
      "source": [
        "2. Next, install the VirtualBox Extension Pack:"
      ]
    },
    {
      "cell_type": "code",
      "metadata": {
        "id": "7DtyB5xEC2Bt",
        "colab_type": "code",
        "colab": {}
      },
      "source": [
        "sudo apt-get install virtualbox—ext–pack"
      ],
      "execution_count": null,
      "outputs": []
    },
    {
      "cell_type": "markdown",
      "metadata": {
        "id": "0rxssECWC40U",
        "colab_type": "text"
      },
      "source": [
        "The Extension Pack enhances VirtualBox by adding USB 2.0 and 3.0 support, remote desktop, and encryption."
      ]
    },
    {
      "cell_type": "markdown",
      "metadata": {
        "id": "grURqPK9C7x5",
        "colab_type": "text"
      },
      "source": [
        "Option 2: Installing VirtualBox from Oracle's Repositories\n",
        "\n",
        "Often the default repositories do not have the latest versions of the software. They may work for test environments, but some users need the latest security or functionality patches. This process is more in-depth but installs the most recent version of VirtualBox on Ubuntu.\n",
        "\n",
        "Install Supporting software\n",
        "The software-properties-common package is required to run Virtualbox on Ubuntu. It allows you to add new software repositories.\n",
        "\n",
        "Enter the following into a terminal window:"
      ]
    },
    {
      "cell_type": "code",
      "metadata": {
        "id": "Gb7fl5utDBNP",
        "colab_type": "code",
        "colab": {}
      },
      "source": [
        "sudo apt-get install software–properties–common"
      ],
      "execution_count": null,
      "outputs": []
    },
    {
      "cell_type": "markdown",
      "metadata": {
        "id": "ujFE03o9DDgx",
        "colab_type": "text"
      },
      "source": [
        "Install GPG keys\n",
        "GPG keys allow you to verify and communicate with the VirtualBox repository.\n",
        "\n",
        "To download and install GPG keys, use the commands:"
      ]
    },
    {
      "cell_type": "code",
      "metadata": {
        "id": "0MigRlvTDF6i",
        "colab_type": "code",
        "colab": {}
      },
      "source": [
        "wget –q https://www.virtualbox.org/download/oracle_vbox_2016.asc -O- | sudo apt-key add -\n",
        "wget -q https://www.virtualbox.org/download/oracle_vbox.asc -O- | sudo apt-key add –"
      ],
      "execution_count": null,
      "outputs": []
    },
    {
      "cell_type": "markdown",
      "metadata": {
        "id": "JcVXAvOBDKKq",
        "colab_type": "text"
      },
      "source": [
        "Add VirtualBox Repository to Ubuntu\n",
        "To add the VirtualBox repository, enter the command :"
      ]
    },
    {
      "cell_type": "code",
      "metadata": {
        "id": "aL-Z0vkqDK_2",
        "colab_type": "code",
        "colab": {}
      },
      "source": [
        "sudo add-apt-repository \"deb http://download.virtualbox.org/virtualbox/debian bionic contrib\""
      ],
      "execution_count": null,
      "outputs": []
    },
    {
      "cell_type": "markdown",
      "metadata": {
        "id": "Kvbc9nsQDNjD",
        "colab_type": "text"
      },
      "source": [
        "Install Latest Version of VirtualBox\n",
        "1. Start by updating the package lists:"
      ]
    },
    {
      "cell_type": "code",
      "metadata": {
        "id": "4e0zY6k2DO1m",
        "colab_type": "code",
        "colab": {}
      },
      "source": [
        "sudo apt-get update"
      ],
      "execution_count": null,
      "outputs": []
    },
    {
      "cell_type": "markdown",
      "metadata": {
        "id": "DySMBBatDQF2",
        "colab_type": "text"
      },
      "source": [
        "2. To Install VirtualBox 6.0 on Ubuntu, use the command:"
      ]
    },
    {
      "cell_type": "code",
      "metadata": {
        "id": "rpj72_HrDREI",
        "colab_type": "code",
        "colab": {}
      },
      "source": [
        "sudo apt-get install virtualbox–6.0"
      ],
      "execution_count": null,
      "outputs": []
    },
    {
      "cell_type": "markdown",
      "metadata": {
        "id": "j9UHsdqGDSJA",
        "colab_type": "text"
      },
      "source": [
        "At the time of writing this article, the latest VirtualBox version is 6.0.8. It was designed for 64-bit operating systems. If you’re running a 32-bit OS, you should use VirtualBox 5.2 instead.\n",
        "\n",
        "To install VirtualBox 5.2, enter the following:"
      ]
    },
    {
      "cell_type": "code",
      "metadata": {
        "id": "EDziVw3dDTbv",
        "colab_type": "code",
        "colab": {}
      },
      "source": [
        "sudo apt-get install virtualbox–5.2"
      ],
      "execution_count": null,
      "outputs": []
    },
    {
      "cell_type": "markdown",
      "metadata": {
        "id": "DZwJK0pzDXV0",
        "colab_type": "text"
      },
      "source": [
        "Install VirtualBox Extension Pack\n",
        "The VirtualBox Extension Pack enhances the functionality of your virtual machines. It adds additional tools like USB 2.0 and 3.0, Remote Desktop, and encryption.\n",
        "\n",
        "1. Enter the following:"
      ]
    },
    {
      "cell_type": "code",
      "metadata": {
        "id": "CIRAbMNbEqwr",
        "colab_type": "code",
        "colab": {}
      },
      "source": [
        "wget https://download.virtualbox.org/virtualbox/6.0.8/Oracle_VM_VirtualBox_Extension_Pack-6.0.8.vbox-extpack"
      ],
      "execution_count": null,
      "outputs": []
    },
    {
      "cell_type": "markdown",
      "metadata": {
        "id": "rXy81CCjEtOA",
        "colab_type": "text"
      },
      "source": [
        "2. Import the Extension Pack:"
      ]
    },
    {
      "cell_type": "code",
      "metadata": {
        "id": "vP-GAWt0EuGj",
        "colab_type": "code",
        "colab": {}
      },
      "source": [
        "sudo VBoxManage extpack install Oracle_VM_VirtualBox_Extension_Pack-6.0.8.vbox-extpack"
      ],
      "execution_count": null,
      "outputs": []
    },
    {
      "cell_type": "markdown",
      "metadata": {
        "id": "l33hRskAEvJu",
        "colab_type": "text"
      },
      "source": [
        "Confirm the installation, then allow the process to complete."
      ]
    }
  ]
}