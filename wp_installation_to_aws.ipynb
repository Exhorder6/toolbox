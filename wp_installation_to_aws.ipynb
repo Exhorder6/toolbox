{
 "cells": [
  {
   "cell_type": "markdown",
   "metadata": {
    "colab_type": "text",
    "id": "view-in-github"
   },
   "source": [
    "<a href=\"https://colab.research.google.com/github/selcukakarin/ToolBox/blob/master/wp_installation_to_aws.ipynb\" target=\"_parent\"><img src=\"https://colab.research.google.com/assets/colab-badge.svg\" alt=\"Open In Colab\"/></a>"
   ]
  },
  {
   "cell_type": "markdown",
   "metadata": {
    "colab_type": "text",
    "id": "Gb25KUQEsNWH"
   },
   "source": [
    "Connect server using .ppk or SFTP\n",
    "\n",
    "filezilla edit > settings > sftp > add keyfile... > pem file or ppk file\n",
    "\n",
    "daha sonra site manage'den sftp seçilir ve bağlanılır."
   ]
  },
  {
   "cell_type": "markdown",
   "metadata": {
    "colab_type": "text",
    "id": "5VhjMx5yv-Kj"
   },
   "source": [
    "kaynaktaki adımlar takip edilir.\n",
    "[Kaynak](https://www.youtube.com/watch?v=vk98vorBlMQ&feature=youtu.be&t=438&ab_channel=AndroidandTechSolutions)\n",
    "[Kaynak2](https://drive.google.com/file/d/1rnwxmAhKJV7j13U7GpLXOwdWpgGpZs5Q/view?usp=sharing)"
   ]
  },
  {
   "cell_type": "markdown",
   "metadata": {
    "colab_type": "text",
    "id": "SOG_y2UZy1Z-"
   },
   "source": [
    "aws'de server oluşturduktan sonra oluşturulan pem file'a 400 mod verilir."
   ]
  },
  {
   "cell_type": "code",
   "execution_count": null,
   "metadata": {
    "colab": {},
    "colab_type": "code",
    "id": "EsBPHyTUzCTR"
   },
   "outputs": [],
   "source": [
    "chmod 400 WebServerKey.pem\n",
    "ssh ubuntu@your_ip_here -i WebServerKey.pem"
   ]
  },
  {
   "cell_type": "code",
   "execution_count": null,
   "metadata": {
    "colab": {},
    "colab_type": "code",
    "id": "RECWbUC7wiWn"
   },
   "outputs": [],
   "source": [
    "    ls\n",
    "    sudo apt update -y\n",
    "    sudo apt upgrade -y\n",
    "    sudo apt install apache2 -y\n",
    "    sudo systemctl status apache2\n",
    "    sudo apt install mariadb-server mariadb-client -y\n",
    "    sudo systemctl start mariadb\n",
    "    sudo systemctl status mariadb\n",
    "    sudo mysql_secure_installation\n",
    "    y\n",
    "    y\n",
    "    y\n",
    "    y\n",
    "    y\n",
    "    sudo systemctl restart mariadb\n",
    "    sudo apt install php php-mysql php-gd php-cli php-common -y\n",
    "    sudo apt install wget unzip -y\n",
    "    sudo wget https://wordpress.org/latest.zip\n",
    "    sudo unzip latest.zip\n",
    "    sudo cp -r wordpress/* /var/www/html/\n",
    "    cd /var/www/html/\n",
    "    sudo chown www-data:www-data /var/www/html/\n",
    "    sudo rm -rf index.html\n",
    "    sudo mysql -u root -p\n",
    "    after login\n",
    "    create database wordpress;\n",
    "    create user \"wpadmin\"@\"%\" identified by \"wpadminpass\";\n",
    "    grant all privileges on wordpress.* to \"wpadmin\"@\"%\";\n",
    "    exit\n",
    "    sudo rm -rf index.html\n",
    "    \n",
    "    and then login to your ip adress wp setup\n",
    "    "
   ]
  },
  {
   "cell_type": "markdown",
   "metadata": {
    "colab_type": "text",
    "id": "qh7sSGi9wu1-"
   },
   "source": []
  }
 ],
 "metadata": {
  "colab": {
   "authorship_tag": "ABX9TyPQ8a9bdXodD/4wpabGCdjU",
   "include_colab_link": true,
   "name": "Untitled4.ipynb",
   "provenance": []
  },
  "kernelspec": {
   "display_name": "Python 3",
   "language": "python",
   "name": "python3"
  },
  "language_info": {
   "codemirror_mode": {
    "name": "ipython",
    "version": 3
   },
   "file_extension": ".py",
   "mimetype": "text/x-python",
   "name": "python",
   "nbconvert_exporter": "python",
   "pygments_lexer": "ipython3",
   "version": "3.8.3"
  }
 },
 "nbformat": 4,
 "nbformat_minor": 1
}
